{
 "cells": [
  {
   "cell_type": "code",
   "execution_count": 5,
   "metadata": {},
   "outputs": [],
   "source": [
    "import pandas as pd \n",
    "import numpy as np\n",
    "from sklearn.model_selection import train_test_split\n",
    "from sklearn.ensemble import RandomForestClassifier\n",
    "from sklearn.metrics import accuracy_score"
   ]
  },
  {
   "cell_type": "code",
   "execution_count": null,
   "metadata": {},
   "outputs": [],
   "source": [
    "churn = pd.read_csv(\"churn_dataset.csv\")\n",
    "X = churn.drop(columns=['Exited'])\n",
    "y = churn['Exited']"
   ]
  },
  {
   "cell_type": "code",
   "execution_count": null,
   "metadata": {},
   "outputs": [],
   "source": [
    "np.random.seed(1)\n",
    "\n",
    "n_estimators_levels = [50, 100, 200]\n",
    "max_depth_levels = [None, 1, 10]\n",
    "training_splits = [0.7, 0.8, 0.9]\n",
    "\n",
    "accuracy_df = pd.DataFrame(columns=[\"Block\", \"n_estimators\", \"max_depth\", \"Accuracy\"])\n",
    "\n",
    "for block, train_split in enumerate(training_splits, start=1):\n",
    "    X_train, X_test, y_train, y_test = train_test_split(X, y, train_size=train_split, random_state=42)\n",
    "\n",
    "    for n_estimators in n_estimators_levels:\n",
    "        for max_depth in max_depth_levels:\n",
    "            model = RandomForestClassifier(n_estimators=n_estimators, max_depth=max_depth, random_state=42)\n",
    "\n",
    "            model.fit(X_train, y_train)\n",
    "            y_pred = model.predict(X_test)\n",
    "            accuracy = accuracy_score(y_test, y_pred)\n",
    "\n",
    "            accuracy_temp = pd.DataFrame({\n",
    "                \"Block\": [f\"Split {block} ({int(train_split * 100)}/{100 - int(train_split * 100)})\"],\n",
    "                \"n_estimators\": [n_estimators],\n",
    "                \"max_depth\": [max_depth],\n",
    "                \"Accuracy\": [accuracy]\n",
    "            })\n",
    "            accuracy_df = pd.concat([accuracy_df, accuracy_temp], ignore_index=True)\n",
    "\n",
    "accuracy_df.to_csv(\"random_forest_accuracies.csv\", index=False)\n",
    "\n",
    "print(accuracy_df)"
   ]
  }
 ],
 "metadata": {
  "kernelspec": {
   "display_name": "Python 3",
   "language": "python",
   "name": "python3"
  },
  "language_info": {
   "codemirror_mode": {
    "name": "ipython",
    "version": 3
   },
   "file_extension": ".py",
   "mimetype": "text/x-python",
   "name": "python",
   "nbconvert_exporter": "python",
   "pygments_lexer": "ipython3",
   "version": "3.10.9"
  }
 },
 "nbformat": 4,
 "nbformat_minor": 2
}
