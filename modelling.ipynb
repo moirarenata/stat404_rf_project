{
 "cells": [
  {
   "cell_type": "code",
   "execution_count": 1,
   "metadata": {},
   "outputs": [],
   "source": [
    "import pandas as pd \n",
    "import numpy as np\n",
    "from sklearn.model_selection import train_test_split\n",
    "from sklearn.ensemble import RandomForestClassifier\n",
    "from sklearn.metrics import accuracy_score"
   ]
  },
  {
   "cell_type": "code",
   "execution_count": 2,
   "metadata": {},
   "outputs": [],
   "source": [
    "churn = pd.read_csv(\"churn_dataset.csv\")\n",
    "X = churn.drop(columns=['Exited'])\n",
    "y = churn['Exited']"
   ]
  },
  {
   "cell_type": "code",
   "execution_count": 4,
   "metadata": {},
   "outputs": [
    {
     "name": "stdout",
     "output_type": "stream",
     "text": [
      "              Block n_estimators max_depth  Accuracy\n",
      "0   Split 1 (70/30)            1      None  0.727304\n",
      "1   Split 1 (70/30)            1         1  0.789331\n",
      "2   Split 1 (70/30)            1        10  0.803043\n",
      "3   Split 1 (70/30)          100      None  0.800758\n",
      "4   Split 1 (70/30)          100         1  0.789331\n",
      "5   Split 1 (70/30)          100        10  0.814279\n",
      "6   Split 1 (70/30)          500      None  0.802434\n",
      "7   Split 1 (70/30)          500         1  0.789331\n",
      "8   Split 1 (70/30)          500        10  0.814622\n",
      "9   Split 2 (80/20)            1      None  0.734645\n",
      "10  Split 2 (80/20)            1         1  0.788608\n",
      "11  Split 2 (80/20)            1        10  0.805805\n",
      "12  Split 2 (80/20)          100      None  0.802005\n",
      "13  Split 2 (80/20)          100         1  0.788608\n",
      "14  Split 2 (80/20)          100        10  0.814717\n",
      "15  Split 2 (80/20)          500      None  0.803605\n",
      "16  Split 2 (80/20)          500         1  0.788608\n",
      "17  Split 2 (80/20)          500        10  0.814546\n",
      "18  Split 3 (90/10)            1      None  0.732160\n",
      "19  Split 3 (90/10)            1         1  0.784780\n",
      "20  Split 3 (90/10)            1        10  0.807519\n",
      "21  Split 3 (90/10)          100      None  0.799120\n",
      "22  Split 3 (90/10)          100         1  0.784780\n",
      "23  Split 3 (90/10)          100        10  0.813175\n",
      "24  Split 3 (90/10)          500      None  0.799463\n",
      "25  Split 3 (90/10)          500         1  0.784780\n",
      "26  Split 3 (90/10)          500        10  0.813461\n"
     ]
    }
   ],
   "source": [
    "np.random.seed(1)\n",
    "\n",
    "n_estimators_levels = [1, 100, 500]\n",
    "max_depth_levels = [None, 1, 10]\n",
    "training_splits = [0.7, 0.8, 0.9]\n",
    "\n",
    "accuracy_df = pd.DataFrame(columns=[\"Block\", \"n_estimators\", \"max_depth\", \"Accuracy\"])\n",
    "\n",
    "for block, train_split in enumerate(training_splits, start=1):\n",
    "    X_train, X_test, y_train, y_test = train_test_split(X, y, train_size=train_split, random_state=42)\n",
    "\n",
    "    for n_estimators in n_estimators_levels:\n",
    "        for max_depth in max_depth_levels:\n",
    "            model = RandomForestClassifier(n_estimators=n_estimators, max_depth=max_depth, random_state=42)\n",
    "\n",
    "            model.fit(X_train, y_train)\n",
    "            y_pred = model.predict(X_test)\n",
    "            accuracy = accuracy_score(y_test, y_pred)\n",
    "\n",
    "            accuracy_temp = pd.DataFrame({\n",
    "                \"Block\": [f\"Split {block} ({int(train_split * 100)}/{100 - int(train_split * 100)})\"],\n",
    "                \"n_estimators\": [n_estimators],\n",
    "                \"max_depth\": [max_depth],\n",
    "                \"Accuracy\": [accuracy]\n",
    "            })\n",
    "            accuracy_df = pd.concat([accuracy_df, accuracy_temp], ignore_index=True)\n",
    "\n",
    "accuracy_df.to_csv(\"random_forest_accuracies.csv\", index=False)\n",
    "\n",
    "print(accuracy_df)"
   ]
  }
 ],
 "metadata": {
  "kernelspec": {
   "display_name": "Python 3",
   "language": "python",
   "name": "python3"
  },
  "language_info": {
   "codemirror_mode": {
    "name": "ipython",
    "version": 3
   },
   "file_extension": ".py",
   "mimetype": "text/x-python",
   "name": "python",
   "nbconvert_exporter": "python",
   "pygments_lexer": "ipython3",
   "version": "3.10.9"
  }
 },
 "nbformat": 4,
 "nbformat_minor": 2
}
